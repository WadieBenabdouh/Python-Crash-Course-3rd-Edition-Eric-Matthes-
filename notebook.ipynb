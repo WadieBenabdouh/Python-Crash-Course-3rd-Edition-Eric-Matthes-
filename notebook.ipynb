{
 "cells": [
  {
   "cell_type": "markdown",
   "metadata": {},
   "source": [
    "## EXERCICE PAGE 41 OF THE PDF"
   ]
  },
  {
   "cell_type": "code",
   "execution_count": 1,
   "metadata": {},
   "outputs": [
    {
     "name": "stdout",
     "output_type": "stream",
     "text": [
      "['wild boar', 'my bike', 'Phoenix', 'Screwdriver', 'T90 Shtora']\n",
      "absent guest is : wild boar\n",
      "\tmy bike, welcome to the party, we have insects.\n",
      "\tPhoenix, welcome my darling. \n",
      "\tScrewdriver, welcome, don't scare me like that time.\n",
      "\tT90 Shtora, welcome boss.\n",
      "\tTimon, welcome red scary eyes.\n",
      "['my bike', 'Phoenix', 'Screwdriver', 'T90 Shtora', 'Timon']\n",
      "['RedBlack Shoes', 'my bike', 'Phoenix', 'Black Panther Cat', 'Screwdriver', 'T90 Shtora', 'Timon', 'One Orange Brain cell Cat']\n",
      "sorry One Orange Brain cell Cat, no place for you now, next time for sure!\n",
      "you guys are still invited: \n",
      "\tRedBlack Shoes. \n",
      "\tBlack Panther Cat. \n",
      "[]\n"
     ]
    }
   ],
   "source": [
    "\n",
    "invited_guests = [\"wild boar\", \"my bike\", \"Phoenix\", \"Screwdriver\", \"T90 Shtora\"]\n",
    "print(invited_guests)\n",
    "\n",
    "absent_guest = invited_guests[0]\n",
    "print(f'absent guest is : {invited_guests[0]}')\n",
    "invited_guests.remove(absent_guest)\n",
    "invited_guests.append(\"Timon\")\n",
    "\n",
    "print(f'\\t{invited_guests[0]}, welcome to the party, we have insects.')\n",
    "print(f'\\t{invited_guests[1]}, welcome my darling. ')\n",
    "print(f'\\t{invited_guests[2]}, welcome, don\\'t scare me like that time.')\n",
    "print(f'\\t{invited_guests[3]}, welcome boss.')\n",
    "print(f'\\t{invited_guests[4]}, welcome red scary eyes.')\n",
    "\n",
    "print(invited_guests)\n",
    "\n",
    "# we found an extra table\n",
    "more_guests = [\"RedBlack Shoes\", \"Black Panther Cat\", \"One Orange Brain cell Cat\"]\n",
    "invited_guests.insert(0, more_guests[0])\n",
    "invited_guests.insert(3, more_guests[1])\n",
    "invited_guests.insert(7, more_guests[2])\n",
    "print(invited_guests)\n",
    "\n",
    "# we found an extra table, but it supports 2 invitees only, one has to go.\n",
    "print(f'sorry {invited_guests[7]}, no place for you now, next time for sure!')\n",
    "invited_guests.pop(7)\n",
    "print(f'you guys are still invited: \\n\\t{invited_guests[0]}. \\n\\t{invited_guests[3]}. ')\n",
    "more_guests.clear()\n",
    "# no more queue.\n",
    "print(more_guests)\n"
   ]
  },
  {
   "cell_type": "markdown",
   "metadata": {},
   "source": [
    "## EXERCICE PAGE 45 OF THE PDF"
   ]
  },
  {
   "cell_type": "code",
   "execution_count": 2,
   "metadata": {},
   "outputs": [
    {
     "name": "stdout",
     "output_type": "stream",
     "text": [
      "['Russia', 'Belarus', 'USA', 'Czech Republic', 'Peru']\n",
      "['Belarus', 'Czech Republic', 'Peru', 'Russia', 'USA']\n",
      "['Russia', 'Belarus', 'USA', 'Czech Republic', 'Peru']\n",
      "['USA', 'Russia', 'Peru', 'Czech Republic', 'Belarus']\n",
      "['Russia', 'Belarus', 'USA', 'Czech Republic', 'Peru']\n",
      "['Peru', 'Czech Republic', 'USA', 'Belarus', 'Russia']\n",
      "['Belarus', 'Czech Republic', 'Peru', 'Russia', 'USA']\n",
      "['USA', 'Russia', 'Peru', 'Czech Republic', 'Belarus']\n"
     ]
    }
   ],
   "source": [
    "#  Store the locations in a list. Make sure the list is not in alphabetical order.\n",
    "places = [\"Russia\", \"Belarus\", \"USA\", \"Czech Republic\", \"Peru\"]\n",
    "\n",
    "#  Print your list in its original order. Don’t worry about printing the list neatly; just print it as a raw Python list.\n",
    "print(places)\n",
    "\n",
    "# Use sorted() to print your list in alphabetical order without modifying the actual list.\n",
    "print(sorted(places))\n",
    "\n",
    "# Show that your list is still in its original order by printing it.\n",
    "print(places)\n",
    "\n",
    "# Use sorted() to print your list in reverse-alphabetical order without changing the order of the original list\n",
    "print(sorted(places, reverse=True))\n",
    "\n",
    "# Show that your list is still in its original order by printing it again\n",
    "print(places)\n",
    "\n",
    "# Use reverse() to change the order of your list. Print the list to show that its order has changed.\n",
    "places.reverse()\n",
    "\n",
    "# Use reverse() to change the order of your list again. Print the list to show it’s back to its original order.\n",
    "print(places)\n",
    "\n",
    "# Use sort() to change your list so it’s stored in alphabetical order. Print the list to show that its order has been changed.\n",
    "places.sort()\n",
    "print(places)\n",
    "\n",
    "# Use sort() to change your list so it’s stored in reverse-alphabetical order. Print the list to show that its order has changed\n",
    "places.sort(reverse=True)\n",
    "print(places)"
   ]
  },
  {
   "cell_type": "markdown",
   "metadata": {},
   "source": [
    "## EXERCICE PAGE 56 OF THE PDF"
   ]
  },
  {
   "cell_type": "code",
   "execution_count": 3,
   "metadata": {},
   "outputs": [
    {
     "name": "stdout",
     "output_type": "stream",
     "text": [
      "I like Sea-Food Pizza.\n",
      "I like Vegetarian Pizza.\n",
      "I like Mushroom Pizza.\n",
      "I really love Pizza.\n",
      "Tiger\n",
      "Leopard\n",
      "Lynx\n",
      "Tiger, is strong and aggresive.\n",
      "Leopard, is agile and spiritual.\n",
      "Lynx, is fluffy, yet a predator.\n"
     ]
    }
   ],
   "source": [
    "# 4.1 Think of at least three kinds of your favorite pizza. Store these pizza names in a list, and then use a for loop to print the name of each pizza\n",
    "favorite_pizzas = [\"Sea-Food Pizza\", \"Vegetarian Pizza\", \"Mushroom Pizza\"]\n",
    "for pizza in favorite_pizzas:\n",
    "    print(f'I like {pizza}.')\n",
    "print(\"I really love Pizza.\")\n",
    "\n",
    "# 4-2. Animals: Think of at least three different animals that have a common characteristic. Store the names of these animals in a list, and then use a for loop toprint out the name of each animal.\n",
    "animals = [\"Tiger\", \"Leopard\", \"Lynx\"]\n",
    "for animal in animals:\n",
    "    print(animal)\n",
    "print(f'{animals[0]}, is strong and aggresive.')\n",
    "print(f'{animals[1]}, is agile and spiritual.')\n",
    "print(f'{animals[2]}, is fluffy, yet a predator.')"
   ]
  },
  {
   "cell_type": "markdown",
   "metadata": {},
   "source": [
    "## EXERCICE PAGE 67"
   ]
  },
  {
   "cell_type": "code",
   "execution_count": 1,
   "metadata": {},
   "outputs": [
    {
     "name": "stdout",
     "output_type": "stream",
     "text": [
      "Shrimp Salad\n",
      "Calamar Rings\n",
      "Oyster Plates\n",
      "Crab Meat\n",
      "Edam Wheel\n",
      "Shrimp Salad\n",
      "Calamar Rings\n",
      "Oyster Plates\n",
      "Tuna Steak\n",
      "Octopus Eyes\n"
     ]
    }
   ],
   "source": [
    "basic_foods = (\"Shrimp Salad\", \"Calamar Rings\", \"Oyster Plates\", \"Crab Meat\", \"Edam Wheel\")\n",
    "\n",
    "for food in basic_foods:\n",
    "    print(food)\n",
    "\n",
    "basic_foods = (\"Shrimp Salad\", \"Calamar Rings\", \"Oyster Plates\", \"Tuna Steak\", \"Octopus Eyes\")\n",
    "for newMenu in basic_foods:\n",
    "    print(newMenu)"
   ]
  }
 ],
 "metadata": {
  "kernelspec": {
   "display_name": "Python 3",
   "language": "python",
   "name": "python3"
  },
  "language_info": {
   "codemirror_mode": {
    "name": "ipython",
    "version": 3
   },
   "file_extension": ".py",
   "mimetype": "text/x-python",
   "name": "python",
   "nbconvert_exporter": "python",
   "pygments_lexer": "ipython3",
   "version": "3.12.2"
  }
 },
 "nbformat": 4,
 "nbformat_minor": 2
}
