{
 "cells": [
  {
   "cell_type": "markdown",
   "metadata": {},
   "source": [
    "## EXERCISE PAGE 41 OF THE PDF"
   ]
  },
  {
   "cell_type": "code",
   "execution_count": null,
   "metadata": {},
   "outputs": [],
   "source": [
    "\n",
    "invited_guests = [\"wild boar\", \"my bike\", \"Phoenix\", \"Screwdriver\", \"T90 Shtora\"]\n",
    "print(invited_guests)\n",
    "\n",
    "absent_guest = invited_guests[0]\n",
    "print(f'absent guest is : {invited_guests[0]}')\n",
    "invited_guests.remove(absent_guest)\n",
    "invited_guests.append(\"Timon\")\n",
    "\n",
    "print(f'\\t{invited_guests[0]}, welcome to the party, we have insects.')\n",
    "print(f'\\t{invited_guests[1]}, welcome my darling. ')\n",
    "print(f'\\t{invited_guests[2]}, welcome, don\\'t scare me like that time.')\n",
    "print(f'\\t{invited_guests[3]}, welcome boss.')\n",
    "print(f'\\t{invited_guests[4]}, welcome red scary eyes.')\n",
    "\n",
    "print(invited_guests)\n",
    "\n",
    "# we found an extra table\n",
    "more_guests = [\"RedBlack Shoes\", \"Black Panther Cat\", \"One Orange Brain cell Cat\"]\n",
    "invited_guests.insert(0, more_guests[0])\n",
    "invited_guests.insert(3, more_guests[1])\n",
    "invited_guests.insert(7, more_guests[2])\n",
    "print(invited_guests)\n",
    "\n",
    "# we found an extra table, but it supports 2 invitees only, one has to go.\n",
    "print(f'sorry {invited_guests[7]}, no place for you now, next time for sure!')\n",
    "invited_guests.pop(7)\n",
    "print(f'you guys are still invited: \\n\\t{invited_guests[0]}. \\n\\t{invited_guests[3]}. ')\n",
    "more_guests.clear()\n",
    "# no more queue.\n",
    "print(more_guests)\n"
   ]
  },
  {
   "cell_type": "markdown",
   "metadata": {},
   "source": [
    "## EXERCICSE PAGE 45 OF THE PDF"
   ]
  },
  {
   "cell_type": "code",
   "execution_count": null,
   "metadata": {},
   "outputs": [],
   "source": [
    "#  Store the locations in a list. Make sure the list is not in alphabetical order.\n",
    "places = [\"Russia\", \"Belarus\", \"USA\", \"Czech Republic\", \"Peru\"]\n",
    "\n",
    "#  Print your list in its original order. Don’t worry about printing the list neatly; just print it as a raw Python list.\n",
    "print(places)\n",
    "\n",
    "# Use sorted() to print your list in alphabetical order without modifying the actual list.\n",
    "print(sorted(places))\n",
    "\n",
    "# Show that your list is still in its original order by printing it.\n",
    "print(places)\n",
    "\n",
    "# Use sorted() to print your list in reverse-alphabetical order without changing the order of the original list\n",
    "print(sorted(places, reverse=True))\n",
    "\n",
    "# Show that your list is still in its original order by printing it again\n",
    "print(places)\n",
    "\n",
    "# Use reverse() to change the order of your list. Print the list to show that its order has changed.\n",
    "places.reverse()\n",
    "\n",
    "# Use reverse() to change the order of your list again. Print the list to show it’s back to its original order.\n",
    "print(places)\n",
    "\n",
    "# Use sort() to change your list so it’s stored in alphabetical order. Print the list to show that its order has been changed.\n",
    "places.sort()\n",
    "print(places)\n",
    "\n",
    "# Use sort() to change your list so it’s stored in reverse-alphabetical order. Print the list to show that its order has changed\n",
    "places.sort(reverse=True)\n",
    "print(places)"
   ]
  },
  {
   "cell_type": "markdown",
   "metadata": {},
   "source": [
    "## EXERCISE PAGE 56 OF THE PDF"
   ]
  },
  {
   "cell_type": "code",
   "execution_count": null,
   "metadata": {},
   "outputs": [],
   "source": [
    "# 4.1 Think of at least three kinds of your favorite pizza. Store these pizza names in a list, and then use a for loop to print the name of each pizza\n",
    "favorite_pizzas = [\"Sea-Food Pizza\", \"Vegetarian Pizza\", \"Mushroom Pizza\"]\n",
    "for pizza in favorite_pizzas:\n",
    "    print(f'I like {pizza}.')\n",
    "print(\"I really love Pizza.\")\n",
    "\n",
    "# 4-2. Animals: Think of at least three different animals that have a common characteristic. Store the names of these animals in a list, and then use a for loop toprint out the name of each animal.\n",
    "animals = [\"Tiger\", \"Leopard\", \"Lynx\"]\n",
    "for animal in animals:\n",
    "    print(animal)\n",
    "print(f'{animals[0]}, is strong and aggresive.')\n",
    "print(f'{animals[1]}, is agile and spiritual.')\n",
    "print(f'{animals[2]}, is fluffy, yet a predator.')"
   ]
  },
  {
   "cell_type": "markdown",
   "metadata": {},
   "source": [
    "## EXERCISE PAGE 67"
   ]
  },
  {
   "cell_type": "code",
   "execution_count": null,
   "metadata": {},
   "outputs": [],
   "source": [
    "basic_foods = (\"Shrimp Salad\", \"Calamar Rings\", \"Oyster Plates\", \"Crab Meat\", \"Edam Wheel\")\n",
    "\n",
    "for food in basic_foods:\n",
    "    print(food)\n",
    "\n",
    "basic_foods = (\"Shrimp Salad\", \"Calamar Rings\", \"Oyster Plates\", \"Tuna Steak\", \"Octopus Eyes\")\n",
    "for newMenu in basic_foods:\n",
    "    print(newMenu)"
   ]
  },
  {
   "cell_type": "markdown",
   "metadata": {},
   "source": [
    "# EXERCISES PAGE 127"
   ]
  },
  {
   "cell_type": "markdown",
   "metadata": {},
   "source": [
    "## 7-8 "
   ]
  },
  {
   "cell_type": "code",
   "execution_count": null,
   "metadata": {},
   "outputs": [],
   "source": [
    "sandwich_orders = [\"hotdog\", \"sausage\", \"taco\", \"beef\", \"salad\"]\n",
    "finished_sandwishes = []\n",
    "\n",
    "for order in sandwich_orders:\n",
    "        print(f'I made your {order} sandwich')\n",
    "        finished_sandwishes.append(order)\n",
    "print(finished_sandwishes)"
   ]
  },
  {
   "cell_type": "markdown",
   "metadata": {},
   "source": [
    "## 7-9"
   ]
  },
  {
   "cell_type": "code",
   "execution_count": null,
   "metadata": {},
   "outputs": [],
   "source": [
    "sandwich_orders = [\"hotdog\", \"pastrami\", \"sausage\", \"taco\",\"pastrami\", \"beef\", \"pastrami\", \"salad\"]\n",
    "finished_sandwishes = []\n",
    "# The deli run out of pastrami\n",
    "while \"pastrami\" in sandwich_orders:\n",
    "    sandwich_orders.remove(\"pastrami\")\n",
    "finished_sandwishes.append(sandwich_orders)\n",
    "print(finished_sandwishes)"
   ]
  },
  {
   "cell_type": "markdown",
   "metadata": {},
   "source": [
    "## EXERCISE PAGE 145"
   ]
  },
  {
   "cell_type": "code",
   "execution_count": null,
   "metadata": {},
   "outputs": [],
   "source": [
    "shortTexts = [\"Bravo Six going dark\", \"Tango down\", \"Whiskey hotel\", \"Copy that\"]\n",
    "\n",
    "def send_messages(list):\n",
    "    sent_messages = []\n",
    "    for message in list:\n",
    "        print(message)\n",
    "        sent_messages.append(message)\n",
    "    print(sent_messages)\n",
    "\n",
    "shortTexts = send_messages(shortTexts) "
   ]
  }
 ],
 "metadata": {
  "kernelspec": {
   "display_name": "Python 3",
   "language": "python",
   "name": "python3"
  },
  "language_info": {
   "codemirror_mode": {
    "name": "ipython",
    "version": 3
   },
   "file_extension": ".py",
   "mimetype": "text/x-python",
   "name": "python",
   "nbconvert_exporter": "python",
   "pygments_lexer": "ipython3",
   "version": "3.12.2"
  }
 },
 "nbformat": 4,
 "nbformat_minor": 2
}
