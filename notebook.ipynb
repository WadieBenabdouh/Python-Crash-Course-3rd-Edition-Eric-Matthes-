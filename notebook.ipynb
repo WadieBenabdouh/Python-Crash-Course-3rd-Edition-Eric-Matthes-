{
 "cells": [
  {
   "cell_type": "markdown",
   "metadata": {},
   "source": [
    "## EXERCICE PAGE 41 OF THE PDF"
   ]
  },
  {
   "cell_type": "code",
   "execution_count": null,
   "metadata": {},
   "outputs": [],
   "source": [
    "\n",
    "invited_guests = [\"wild boar\", \"my bike\", \"Phoenix\", \"Screwdriver\", \"T90 Shtora\"]\n",
    "print(invited_guests)\n",
    "\n",
    "absent_guest = invited_guests[0]\n",
    "print(f'absent guest is : {invited_guests[0]}')\n",
    "invited_guests.remove(absent_guest)\n",
    "invited_guests.append(\"Timon\")\n",
    "\n",
    "print(f'\\t{invited_guests[0]}, welcome to the party, we have insects.')\n",
    "print(f'\\t{invited_guests[1]}, welcome my darling. ')\n",
    "print(f'\\t{invited_guests[2]}, welcome, don\\'t scare me like that time.')\n",
    "print(f'\\t{invited_guests[3]}, welcome boss.')\n",
    "print(f'\\t{invited_guests[4]}, welcome red scary eyes.')\n",
    "\n",
    "print(invited_guests)\n",
    "\n",
    "# we found an extra table\n",
    "more_guests = [\"RedBlack Shoes\", \"Black Panther Cat\", \"One Orange Brain cell Cat\"]\n",
    "invited_guests.insert(0, more_guests[0])\n",
    "invited_guests.insert(3, more_guests[1])\n",
    "invited_guests.insert(7, more_guests[2])\n",
    "print(invited_guests)\n",
    "\n",
    "# we found an extra table, but it supports 2 invitees only, one has to go.\n",
    "print(f'sorry {invited_guests[7]}, no place for you now, next time for sure!')\n",
    "invited_guests.pop(7)\n",
    "print(f'you guys are still invited: \\n\\t{invited_guests[0]}. \\n\\t{invited_guests[3]}. ')\n",
    "more_guests.clear()\n",
    "# no more queue.\n",
    "print(more_guests)\n"
   ]
  }
 ],
 "metadata": {
  "language_info": {
   "name": "python"
  }
 },
 "nbformat": 4,
 "nbformat_minor": 2
}
